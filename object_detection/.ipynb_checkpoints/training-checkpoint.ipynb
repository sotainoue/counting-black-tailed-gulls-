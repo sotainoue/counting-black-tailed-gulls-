{
 "cells": [
  {
   "cell_type": "code",
   "execution_count": 1,
   "id": "b0553e34-325b-488f-8da8-c01a46e061f0",
   "metadata": {},
   "outputs": [],
   "source": [
    "from ultralytics import YOLO\n",
    "from torchvision.datasets import ImageFolder\n",
    "from torch.utils.data import DataLoader, random_split\n",
    "from torchvision import transforms\n",
    "from PIL import Image\n",
    "import torchvision.transforms.functional as F\n",
    "\n",
    "import numpy as np\n",
    "import os \n",
    "import shutil\n",
    "import math\n",
    "import random\n",
    "import pandas\n",
    "import matplotlib.pyplot as plt\n",
    "import re\n",
    "import glob\n",
    "import time"
   ]
  },
  {
   "cell_type": "code",
   "execution_count": null,
   "id": "f8c4d28e-eff8-40cd-aeba-a8c6181af8d1",
   "metadata": {},
   "outputs": [],
   "source": [
    "#Training for model1\n",
    "#model = YOLO('yolov8s.pt')\n",
    "#model.train(data='object_detection/training_data/data.yaml',\n",
    "#             epochs=300,\n",
    "#             batch=8)\n",
    "#metrics = model.val(split='test')\n",
    "#print(metrics)"
   ]
  },
  {
   "cell_type": "code",
   "execution_count": 2,
   "id": "e3fd2870-bf60-4255-a5bc-c03f5ebf4a95",
   "metadata": {},
   "outputs": [],
   "source": [
    "#prediction with model full\n",
    "from sahi.utils.yolov8 import download_yolov8s_model\n",
    "from sahi import AutoDetectionModel\n",
    "from sahi.utils.cv import read_image\n",
    "from sahi.utils.file import download_from_url, save_json\n",
    "from sahi.predict import get_prediction, get_sliced_prediction, predict\n",
    "from pathlib import Path\n",
    "from IPython.display import Image\n",
    "import json\n",
    "import pandas as pd"
   ]
  },
  {
   "cell_type": "code",
   "execution_count": 3,
   "id": "eacf2747-9c95-4ae8-bcf0-dc25d1705aa4",
   "metadata": {},
   "outputs": [],
   "source": [
    "#SAHI using trained model\n",
    "full_prediction_model = YOLO('object_detection/training_data/best.pt')\n",
    "\n",
    "\n",
    "detection_model = AutoDetectionModel.from_pretrained(\n",
    "    model_type = 'yolov8',\n",
    "    model_path =  'object_detection/training_data/best.pt',\n",
    "    confidence_threshold=0.2,\n",
    "    device='cuda:0'\n",
    ")"
   ]
  },
  {
   "cell_type": "code",
   "execution_count": null,
   "id": "74d5995f",
   "metadata": {},
   "outputs": [],
   "source": [
    "#prediction with SAHI\n",
    "result = get_sliced_prediction('object_detection/example.png',\n",
    "                               detection_model,\n",
    "                               slice_height=640,\n",
    "                               slice_width=640,\n",
    "                               overlap_height_ratio=0.2,\n",
    "                               overlap_width_ratio=0.2,\n",
    "                               postprocess_match_threshold = 0.3)\n",
    "result.export_visuals(export__dir='object_detection/',file_name='with_sahi',hide_labels=True,rect_th=3)"
   ]
  },
  {
   "cell_type": "code",
   "execution_count": null,
   "id": "a22672be",
   "metadata": {},
   "outputs": [],
   "source": [
    "#predcition without SAHI\n",
    "result2 = get_prediction('object_detection/example.png', detection_model)\n",
    "result2.export_visuals(export__dir='object_detection/',file_name='without_sahi',hide_labels=True,rect_th=3)"
   ]
  },
  {
   "cell_type": "code",
   "execution_count": null,
   "id": "9cb11171-4c86-4c5c-a8b1-656ef60455d0",
   "metadata": {
    "scrolled": false
   },
   "outputs": [],
   "source": [
    "\n",
    "folders = glob.glob('orthomosaic_path')  \n",
    "\n",
    "for folder in folders:\n",
    "    print(folder)\n",
    "    images = glob.glob(folder +'/*.tif')\n",
    "    \n",
    "    \n",
    "    tmp3  = {'image_id': ['NN'],\n",
    "            'bbox': ['NN'],\n",
    "            'score': ['NN'],\n",
    "            'category_id': ['NN']}\n",
    "    tmp3 = pd.DataFrame(tmp3)\n",
    "    \n",
    "    for image in images:\n",
    "        \n",
    "        result = get_sliced_prediction(image,\n",
    "                                       detection_model,\n",
    "                                       slice_height=640,\n",
    "                                       slice_width=640,\n",
    "                                       overlap_height_ratio=0.2,\n",
    "                                       overlap_width_ratio=0.2,\n",
    "                                       postprocess_match_threshold = 0.3)\n",
    "        \n",
    "        if len(result.to_coco_predictions()) > 0:\n",
    "            tmp = pd.DataFrame(result.to_coco_predictions())\n",
    "            tmp = tmp.drop('segmentation',axis=1)\n",
    "            tmp = tmp.drop('category_name',axis=1)\n",
    "            tmp = tmp.drop('iscrowd',axis=1)\n",
    "            tmp = tmp.drop('area',axis=1)\n",
    "        \n",
    "            #os.path.split(image)[1]\n",
    "            tmp['image_id'] = os.path.split(image)[1]\n",
    "    \n",
    "            tmp3 = pd.concat([tmp3,tmp],ignore_index=True)\n",
    "    \n",
    "        tmp3.to_csv('path for save the results' + os.path.split(image)[1] + '.csv')\n"
   ]
  },
  {
   "cell_type": "code",
   "execution_count": 31,
   "id": "6ec8c6d7-4141-4427-8123-4804bf08970d",
   "metadata": {},
   "outputs": [],
   "source": [
    "result = pandas.DataFrame(dict(n_training=samples, \n",
    "session=sessions,\n",
    "mAP = maps,\n",
    "mAP50=map50s, \n",
    "p=mps, \n",
    "r=mrs,\n",
    "category=categorys,\n",
    "n_birds=nbird))"
   ]
  },
  {
   "cell_type": "code",
   "execution_count": null,
   "id": "9e1552b0-e169-4462-adcc-0e1200748f2d",
   "metadata": {},
   "outputs": [],
   "source": [
    "print(result)"
   ]
  },
  {
   "cell_type": "code",
   "execution_count": 33,
   "id": "c6b0be3e-e439-4ff3-ba01-e4950bc66b02",
   "metadata": {},
   "outputs": [],
   "source": [
    "result.to_csv('path for save the results')"
   ]
  }
 ],
 "metadata": {
  "kernelspec": {
   "display_name": "Python 3 (ipykernel)",
   "language": "python",
   "name": "python3"
  },
  "language_info": {
   "codemirror_mode": {
    "name": "ipython",
    "version": 3
   },
   "file_extension": ".py",
   "mimetype": "text/x-python",
   "name": "python",
   "nbconvert_exporter": "python",
   "pygments_lexer": "ipython3",
   "version": "3.9.12"
  }
 },
 "nbformat": 4,
 "nbformat_minor": 5
}
